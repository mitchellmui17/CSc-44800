{
 "cells": [
  {
   "cell_type": "markdown",
   "id": "eb821618",
   "metadata": {},
   "source": [
    "This is a small python program I wrote awhile back based on the roulette wheel. I had orginally seperated them into seperate files to keep some things cleaner, but I have seperated them into their respective cells.\n",
    "Repository Link to original file: https://github.com/mitchellmui17/Roulette-Betting-Game\n"
   ]
  },
  {
   "cell_type": "markdown",
   "id": "028a8b1f",
   "metadata": {},
   "source": [
    "This Cell was used to declare the functions and information required for a local user's account balance."
   ]
  },
  {
   "cell_type": "code",
   "execution_count": null,
   "id": "292b3d51",
   "metadata": {
    "scrolled": true
   },
   "outputs": [],
   "source": [
    "#Account.py file\n",
    "def accountBal(a):\n",
    "    print(\"Amount $\", a)\n",
    "    print(a, \"is your total balance.\")\n",
    "    global Balance\n",
    "    Balance = int(a)\n",
    "\n",
    "\n",
    "def winBal(b):\n",
    "    Total = Balance + b\n",
    "    print(\"Your total balance is now \", Total)\n",
    "    accountBal(Total)"
   ]
  },
  {
   "cell_type": "markdown",
   "id": "793e30ff",
   "metadata": {},
   "source": [
    "This was the former Roulette wheel. This was used to make the function for the game itself. Where it intakes the functions declared from the previous cell and uses it here. "
   ]
  },
  {
   "cell_type": "code",
   "execution_count": null,
   "id": "0ee2fce3",
   "metadata": {},
   "outputs": [],
   "source": [
    "#Roulette.py file\n",
    "import math\n",
    "import random\n",
    "\n",
    "# random.randint(1,10)\n",
    "def game(num, money):\n",
    "    number = int(num)\n",
    "    gen = int(random.randint(0, 10))\n",
    "    print(\"====================================\")\n",
    "    print(\"The roulette landed on \", gen)\n",
    "    if (gen == 0) and (number == 0):\n",
    "        jackpot = 14 * money\n",
    "        print(\"====================================\")\n",
    "        print(\"You won \", jackpot, \"from green!\")\n",
    "        print(number, \"is your number\")\n",
    "        winBal(jackpot)\n",
    "        pass\n",
    "    elif (gen > 0 and gen < 6) and (number > 0 and number < 6):\n",
    "        print(\"====================================\")\n",
    "        print(\"You won\", money, \"from red!\")\n",
    "        print(number, \"is your number\")\n",
    "        winBal(money)\n",
    "\n",
    "    else:\n",
    "        print(\"====================================\")\n",
    "        print(\"You lost \", money, \"!\")\n",
    "        winBal(-1 * money)"
   ]
  },
  {
   "cell_type": "markdown",
   "id": "28c5ee8d",
   "metadata": {},
   "source": [
    "This cell was used for the main file in the older game. The purpose was to provide a UI for the local user to test with. "
   ]
  },
  {
   "cell_type": "code",
   "execution_count": null,
   "id": "4c7572fc",
   "metadata": {},
   "outputs": [],
   "source": [
    "#former Main.py file\n",
    "print(\n",
    "    \"Hello and Welcome to the game of Roulette! \\nThis is a little more simplified and can be played in an interesting sense.\")\n",
    "storeName = input(\"Please Enter your name: \")\n",
    "\n",
    "accountBal(\n",
    "    input(\"How much would you like to deposit? \"))  # This is where the money is transfered to the file Account.py\n",
    "print(\"====================================\")\n",
    "print(\"Would you like to start the game? \\n Yes | No\")\n",
    "stop = input()\n",
    "while (stop != \"No\") or (stop != \"no\"):\n",
    "    print(\"====================================\")\n",
    "    a = input(\n",
    "        \"What number would you like to bet on? \\nChoose 1-5 for red \\nChoose 6-10 for Black \\nChoose 0 for Green \\nNumber placed: \")  # What the person is placing it on\n",
    "    if (int(a) <= 10):\n",
    "        b = input(\"How much money would you like to bet? \")\n",
    "        while(int(b) > Balance ):\n",
    "            print(\"You're betting more than you can place. Current Balance:\", Balance)\n",
    "            b = input(\"How much money would you like to bet? \")\n",
    "        game(int(a), int(b))\n",
    "        print(\"====================================\")\n",
    "        print(\"Would you like to play again? Yes | No\")\n",
    "        stop = input()\n",
    "    else:\n",
    "        print(\"====================================\")\n",
    "        print(\"You entered the incorrect number!\")"
   ]
  }
 ],
 "metadata": {
  "kernelspec": {
   "display_name": "Python 3 (ipykernel)",
   "language": "python",
   "name": "python3"
  },
  "language_info": {
   "codemirror_mode": {
    "name": "ipython",
    "version": 3
   },
   "file_extension": ".py",
   "mimetype": "text/x-python",
   "name": "python",
   "nbconvert_exporter": "python",
   "pygments_lexer": "ipython3",
   "version": "3.10.2"
  }
 },
 "nbformat": 4,
 "nbformat_minor": 5
}
